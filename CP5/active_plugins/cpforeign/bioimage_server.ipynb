{
 "cells": [
  {
   "cell_type": "code",
   "execution_count": null,
   "metadata": {},
   "outputs": [],
   "source": [
    "import zmq\n",
    "import numpy as np\n",
    "import matplotlib.pyplot as plt"
   ]
  },
  {
   "cell_type": "markdown",
   "metadata": {},
   "source": [
    "Server setup and image retrieval"
   ]
  },
  {
   "cell_type": "code",
   "execution_count": null,
   "metadata": {},
   "outputs": [],
   "source": [
    "PORT = \"7878\"\n",
    "DOMAIN = \"*\"\n",
    "SOCKET_ADDR = f\"tcp://{DOMAIN}:{PORT}\""
   ]
  },
  {
   "cell_type": "code",
   "execution_count": null,
   "metadata": {},
   "outputs": [],
   "source": [
    "HELLO = \"Hello\"\n",
    "ACK = \"Acknowledge\"\n",
    "DENIED = \"Denied\""
   ]
  },
  {
   "cell_type": "code",
   "execution_count": null,
   "metadata": {},
   "outputs": [],
   "source": [
    "context = zmq.Context()\n",
    "socket = context.socket(zmq.PAIR)\n",
    "socket.copy_threshold = 0\n",
    "b = socket.bind(SOCKET_ADDR)\n",
    "b"
   ]
  },
  {
   "cell_type": "code",
   "execution_count": null,
   "metadata": {},
   "outputs": [],
   "source": [
    "# handshake\n",
    "socket.send_string(HELLO)\n",
    "print(\"Sent hello, waiting for acknowledgement...\")\n",
    "ack = socket.recv_string()\n",
    "if ack == ACK:\n",
    "    print('Received connection ack:', ack)\n",
    "else:\n",
    "    print(\"Received unkown message\", ack)"
   ]
  },
  {
   "cell_type": "code",
   "execution_count": null,
   "metadata": {},
   "outputs": [],
   "source": [
    "header = socket.recv_json()\n",
    "header"
   ]
  },
  {
   "cell_type": "code",
   "execution_count": null,
   "metadata": {},
   "outputs": [],
   "source": [
    "# acknowledge receipt of header, ask for image data\n",
    "socket.send_string(ACK)"
   ]
  },
  {
   "cell_type": "code",
   "execution_count": null,
   "metadata": {},
   "outputs": [],
   "source": [
    "im_bytes = socket.recv(copy=False)\n",
    "im_bytes"
   ]
  },
  {
   "cell_type": "code",
   "execution_count": null,
   "metadata": {},
   "outputs": [],
   "source": [
    "buf = memoryview(im_bytes)\n",
    "im = np.frombuffer(buf, dtype=header['descr'])\n",
    "im = (im * 255).astype(np.uint8)\n",
    "im.shape = header['shape']\n",
    "im"
   ]
  },
  {
   "cell_type": "code",
   "execution_count": null,
   "metadata": {},
   "outputs": [],
   "source": [
    "# acknowledge receipt of image data\n",
    "socket.send_string(ACK)"
   ]
  },
  {
   "cell_type": "code",
   "execution_count": null,
   "metadata": {},
   "outputs": [],
   "source": [
    "plt.imshow(im, cmap='gray')"
   ]
  },
  {
   "cell_type": "markdown",
   "metadata": {},
   "source": [
    "BIOIMAGE download and inspect the model"
   ]
  },
  {
   "cell_type": "code",
   "execution_count": null,
   "metadata": {},
   "outputs": [],
   "source": [
    "from pprint import pprint\n",
    "from typing_extensions import assert_never\n",
    "\n",
    "\n",
    "from bioimageio.spec.pretty_validation_errors import enable_pretty_validation_errors_in_ipynb\n",
    "from bioimageio.spec import InvalidDescr, load_description\n",
    "from bioimageio.spec.model.v0_5 import ModelDescr\n",
    "\n",
    "from bioimageio.spec.model.v0_5 import ArchitectureFromLibraryDescr, ArchitectureFromFileDescr"
   ]
  },
  {
   "cell_type": "code",
   "execution_count": null,
   "metadata": {},
   "outputs": [],
   "source": [
    "enable_pretty_validation_errors_in_ipynb()"
   ]
  },
  {
   "cell_type": "code",
   "execution_count": null,
   "metadata": {},
   "outputs": [],
   "source": [
    "# https://bioimage.io/#/?tags=affable-shark&id=10.5281%2Fzenodo.5764892\n",
    "MODEL_ID = \"affable-shark\"\n",
    "MODEL_DOI = \"10.5281/zenodo.11092561\""
   ]
  },
  {
   "cell_type": "code",
   "execution_count": null,
   "metadata": {},
   "outputs": [],
   "source": [
    "source = MODEL_ID\n",
    "\n",
    "loaded_description = load_description(source)"
   ]
  },
  {
   "cell_type": "code",
   "execution_count": null,
   "metadata": {},
   "outputs": [],
   "source": [
    "loaded_description"
   ]
  },
  {
   "cell_type": "code",
   "execution_count": null,
   "metadata": {},
   "outputs": [],
   "source": [
    "loaded_description.validation_summary.display()"
   ]
  },
  {
   "cell_type": "code",
   "execution_count": null,
   "metadata": {},
   "outputs": [],
   "source": [
    "# let's make sure we have a valid model...\n",
    "if isinstance(loaded_description, InvalidDescr):\n",
    "    raise ValueError(f\"Failed to load {source}\")\n",
    "elif not isinstance(loaded_description, ModelDescr):\n",
    "    raise ValueError(\"This notebook expects a model 0.5 description\")\n",
    "\n",
    "model = loaded_description\n",
    "example_model_id = model.id\n",
    "assert example_model_id is not None"
   ]
  },
  {
   "cell_type": "code",
   "execution_count": null,
   "metadata": {},
   "outputs": [],
   "source": [
    "print(f\"The model is named '{model.name}'\")\n",
    "print(f\"Description:\\n{model.description}\")\n",
    "print(f\"License: {model.license}\")\n",
    "\n",
    "print(\"\\nThe authors of the model are:\")\n",
    "pprint(model.authors)\n",
    "print(f\"\\nIn addition to the authors it is maintained by:\")\n",
    "pprint(model.maintainers)\n",
    "\n",
    "print(\"\\nIf you use this model, you are expected to cite:\")\n",
    "pprint(model.cite)\n",
    "\n",
    "print(f\"\\nFurther documentation can be found here: {model.documentation}\")\n",
    "\n",
    "if model.git_repo is None:\n",
    "    print(\"\\nThere is no associated GitHub repository.\")\n",
    "else:\n",
    "    print(f\"\\nThere is an associated GitHub repository: {model.git_repo}.\")"
   ]
  },
  {
   "cell_type": "code",
   "execution_count": null,
   "metadata": {},
   "outputs": [],
   "source": [
    "for w in [(weights := model.weights).onnx, weights.keras_hdf5, weights.tensorflow_js, weights.tensorflow_saved_model_bundle, weights.torchscript,weights.pytorch_state_dict]:\n",
    "    if w is  None:\n",
    "        continue\n",
    "\n",
    "    print(w.weights_format_name)\n",
    "    print(f\"weights are available at {w.source.absolute()}\")\n",
    "    print(f\"and have a SHA-256 value of {w.sha256}\")\n",
    "    details = {k: v for k, v in w.model_dump(mode=\"json\", exclude_none=True).items() if k not in (\"source\", \"sha256\")}\n",
    "    if details:\n",
    "        print(f\"additonal metadata for {w.weights_format_name}:\")\n",
    "        pprint(details)\n",
    "\n",
    "    print()"
   ]
  },
  {
   "cell_type": "code",
   "execution_count": null,
   "metadata": {},
   "outputs": [],
   "source": [
    "print(f\"Model '{model.name}' requires {len(model.inputs)} input(s) with the following features:\")\n",
    "for ipt in model.inputs:\n",
    "    print(f\"\\ninput '{ipt.id}' with axes:\")\n",
    "    pprint(ipt.axes)\n",
    "    print(f\"Data description: {ipt.data}\")\n",
    "    print(f\"Test tensor available at:  {ipt.test_tensor.source.absolute()}\")\n",
    "    if len(ipt.preprocessing) > 1:\n",
    "        print(\"This input is preprocessed with: \")\n",
    "        for p in ipt.preprocessing:\n",
    "            print(p)\n",
    "\n",
    "print(\"\\n-------------------------------------------------------------------------------\")\n",
    "# # and what the model outputs are\n",
    "print(f\"Model '{model.name}' requires {len(model.outputs)} output(s) with the following features:\")\n",
    "for out in model.outputs:\n",
    "    print(f\"\\noutput '{out.id}' with axes:\")\n",
    "    pprint(out.axes)\n",
    "    print(f\"Data description: {out.data}\")\n",
    "    print(f\"Test tensor available at:  {out.test_tensor.source.absolute()}\")\n",
    "    if len(out.postprocessing) > 1:\n",
    "        print(\"This output is postprocessed with: \")\n",
    "        for p in out.postprocessing:\n",
    "            print(p)"
   ]
  },
  {
   "cell_type": "code",
   "execution_count": null,
   "metadata": {},
   "outputs": [],
   "source": [
    "assert isinstance(model, ModelDescr)\n",
    "if (w:=model.weights.pytorch_state_dict) is not None:\n",
    "    arch = w.architecture\n",
    "    print(f\"callable: {arch.callable}\")\n",
    "    if isinstance(arch, ArchitectureFromFileDescr):\n",
    "        print(f\"import from file: {arch.source.absolute()}\")\n",
    "        if arch.sha256 is not None:\n",
    "            print(f\"SHA-256: {arch.sha256}\")\n",
    "    elif isinstance(arch, ArchitectureFromLibraryDescr):\n",
    "        print(f\"import from module: {arch.import_from}\")\n",
    "    else:\n",
    "        assert_never(arch)"
   ]
  },
  {
   "cell_type": "markdown",
   "metadata": {},
   "source": [
    "BIOIMAGE - run prediction"
   ]
  },
  {
   "cell_type": "code",
   "execution_count": null,
   "metadata": {},
   "outputs": [],
   "source": [
    "import pathlib\n",
    "import bioimageio.core.io as bio\n",
    "import bioimageio.core.prediction as bi_pred"
   ]
  },
  {
   "cell_type": "code",
   "execution_count": null,
   "metadata": {},
   "outputs": [],
   "source": [
    "im = (im / np.iinfo(im.dtype).max).astype(np.float32)"
   ]
  },
  {
   "cell_type": "code",
   "execution_count": null,
   "metadata": {},
   "outputs": [],
   "source": [
    "pad_y = (64 - im.shape[0] % 64) % 64\n",
    "pad_x = (64 - im.shape[1] % 64) % 64\n",
    "padded_image = np.pad(im, ((0, pad_y), (0, pad_x)), mode='constant', constant_values=0)"
   ]
  },
  {
   "cell_type": "code",
   "execution_count": null,
   "metadata": {},
   "outputs": [],
   "source": [
    "input_image = padded_image.reshape([1,1,padded_image.shape[0],padded_image.shape[1]])\n",
    "del padded_image"
   ]
  },
  {
   "cell_type": "code",
   "execution_count": null,
   "metadata": {},
   "outputs": [],
   "source": [
    "input_image.shape, input_image.dtype"
   ]
  },
  {
   "cell_type": "code",
   "execution_count": null,
   "metadata": {},
   "outputs": [],
   "source": [
    "out = bi_pred.predict(model=model, inputs={'input0': input_image}, skip_postprocessing=True, skip_preprocessing=True)\n",
    "del input_image"
   ]
  },
  {
   "cell_type": "code",
   "execution_count": null,
   "metadata": {},
   "outputs": [],
   "source": [
    "res = np.array(out.members['output0'].data[0])"
   ]
  },
  {
   "cell_type": "code",
   "execution_count": null,
   "metadata": {},
   "outputs": [],
   "source": [
    "res = res[:, :im.shape[0], :im.shape[1]]"
   ]
  },
  {
   "cell_type": "code",
   "execution_count": null,
   "metadata": {},
   "outputs": [],
   "source": [
    "plt.imshow(res[0,:,:])"
   ]
  },
  {
   "cell_type": "code",
   "execution_count": null,
   "metadata": {},
   "outputs": [],
   "source": [
    "plt.imshow(res[1,:,:])"
   ]
  },
  {
   "cell_type": "code",
   "execution_count": null,
   "metadata": {},
   "outputs": [],
   "source": [
    "plt.imshow(np.stack([\n",
    "    np.zeros_like(res[0]),\n",
    "    res[0],\n",
    "    res[1]\n",
    "]).transpose(1, 2, 0))"
   ]
  },
  {
   "cell_type": "code",
   "execution_count": null,
   "metadata": {},
   "outputs": [],
   "source": [
    "from skimage.filters import threshold_otsu\n",
    "from skimage.segmentation import clear_border\n",
    "from skimage.measure import label, regionprops\n",
    "from skimage.morphology import closing, square\n",
    "from skimage.color import label2rgb"
   ]
  },
  {
   "cell_type": "code",
   "execution_count": null,
   "metadata": {},
   "outputs": [],
   "source": [
    "res_im = res[0]\n",
    "\n",
    "thresh = threshold_otsu(res_im)\n",
    "bw = closing(res_im > thresh, square(3))\n",
    "# cleared = clear_border(bw)\n",
    "# label_image = label(cleared)\n",
    "label_image = label(bw)"
   ]
  },
  {
   "cell_type": "code",
   "execution_count": null,
   "metadata": {},
   "outputs": [],
   "source": [
    "plt.imshow(bw)"
   ]
  },
  {
   "cell_type": "code",
   "execution_count": null,
   "metadata": {},
   "outputs": [],
   "source": [
    "plt.imshow(label_image)"
   ]
  },
  {
   "cell_type": "code",
   "execution_count": null,
   "metadata": {},
   "outputs": [],
   "source": [
    "plt.imshow(label2rgb(label_image, image=im, bg_label=0))"
   ]
  },
  {
   "cell_type": "markdown",
   "metadata": {},
   "source": [
    "Send back the results"
   ]
  },
  {
   "cell_type": "code",
   "execution_count": null,
   "metadata": {},
   "outputs": [],
   "source": [
    "return_header = np.lib.format.header_data_from_array_1_0(label_image)\n",
    "return_header"
   ]
  },
  {
   "cell_type": "code",
   "execution_count": null,
   "metadata": {},
   "outputs": [],
   "source": [
    "socket.send_json(return_header)"
   ]
  },
  {
   "cell_type": "code",
   "execution_count": null,
   "metadata": {},
   "outputs": [],
   "source": [
    "ack = socket.recv_string()\n",
    "if ack == ACK:\n",
    "    print('Received return header ack:', ack)\n",
    "else:\n",
    "    print(\"Received unkown message\", ack)"
   ]
  },
  {
   "cell_type": "code",
   "execution_count": null,
   "metadata": {},
   "outputs": [],
   "source": [
    "socket.send(label_image, copy=False)"
   ]
  },
  {
   "cell_type": "code",
   "execution_count": null,
   "metadata": {},
   "outputs": [],
   "source": [
    "# socket.send_string(\"Cancel\")"
   ]
  }
 ],
 "metadata": {
  "kernelspec": {
   "display_name": "cp_lis",
   "language": "python",
   "name": "python3"
  },
  "language_info": {
   "codemirror_mode": {
    "name": "ipython",
    "version": 3
   },
   "file_extension": ".py",
   "mimetype": "text/x-python",
   "name": "python",
   "nbconvert_exporter": "python",
   "pygments_lexer": "ipython3",
   "version": "3.10.14"
  }
 },
 "nbformat": 4,
 "nbformat_minor": 2
}
