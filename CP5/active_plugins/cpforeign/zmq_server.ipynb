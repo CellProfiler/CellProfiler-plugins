{
 "cells": [
  {
   "cell_type": "code",
   "execution_count": null,
   "metadata": {},
   "outputs": [],
   "source": [
    "import zmq\n",
    "import numpy as np\n",
    "import skimage as ski\n",
    "import matplotlib.pyplot as plt\n",
    "import scipy as sp"
   ]
  },
  {
   "cell_type": "code",
   "execution_count": null,
   "metadata": {},
   "outputs": [],
   "source": [
    "PORT = \"7878\"\n",
    "DOMAIN = \"*\"\n",
    "SOCKET_ADDR = f\"tcp://{DOMAIN}:{PORT}\""
   ]
  },
  {
   "cell_type": "code",
   "execution_count": null,
   "metadata": {},
   "outputs": [],
   "source": [
    "HELLO = \"Hello\"\n",
    "ACK = \"Acknowledge\"\n",
    "DENIED = \"Denied\""
   ]
  },
  {
   "cell_type": "code",
   "execution_count": null,
   "metadata": {},
   "outputs": [],
   "source": [
    "context = zmq.Context()\n",
    "socket = context.socket(zmq.PAIR)\n",
    "socket.copy_threshold = 0\n",
    "b = socket.bind(SOCKET_ADDR)\n",
    "b"
   ]
  },
  {
   "cell_type": "code",
   "execution_count": null,
   "metadata": {},
   "outputs": [],
   "source": [
    "# handshake\n",
    "socket.send_string(HELLO)\n",
    "print(\"Sent hello, waiting for acknowledgement...\")\n",
    "ack = socket.recv_string()\n",
    "if ack == ACK:\n",
    "    print('Received connection ack:', ack)\n",
    "else:\n",
    "    print(\"Received unkown message\", ack)"
   ]
  },
  {
   "cell_type": "code",
   "execution_count": null,
   "metadata": {},
   "outputs": [],
   "source": [
    "header = socket.recv_json()\n",
    "header"
   ]
  },
  {
   "cell_type": "code",
   "execution_count": null,
   "metadata": {},
   "outputs": [],
   "source": [
    "# acknowledge receipt of header, ask for image data\n",
    "socket.send_string(ACK)"
   ]
  },
  {
   "cell_type": "code",
   "execution_count": null,
   "metadata": {},
   "outputs": [],
   "source": [
    "im_bytes = socket.recv(copy=False)\n",
    "im_bytes"
   ]
  },
  {
   "cell_type": "code",
   "execution_count": null,
   "metadata": {},
   "outputs": [],
   "source": [
    "buf = memoryview(im_bytes)\n",
    "im = np.frombuffer(buf, dtype=header['descr'])\n",
    "im = (im * 255).astype(np.uint8)\n",
    "im.shape = header['shape']\n",
    "im"
   ]
  },
  {
   "cell_type": "code",
   "execution_count": null,
   "metadata": {},
   "outputs": [],
   "source": [
    "# acknowledge receipt of image data\n",
    "socket.send_string(ACK)"
   ]
  },
  {
   "cell_type": "code",
   "execution_count": null,
   "metadata": {},
   "outputs": [],
   "source": [
    "plt.imshow(im, cmap='gray')"
   ]
  },
  {
   "cell_type": "code",
   "execution_count": null,
   "metadata": {},
   "outputs": [],
   "source": [
    "import napari"
   ]
  },
  {
   "cell_type": "code",
   "execution_count": null,
   "metadata": {},
   "outputs": [],
   "source": [
    "viewer = napari.view_image(im)"
   ]
  },
  {
   "cell_type": "code",
   "execution_count": null,
   "metadata": {},
   "outputs": [],
   "source": [
    "# Create the histogram\n",
    "plt.figure(figsize=(10, 6))\n",
    "plt.hist(im.flatten(), bins=256, range=(0, 256), edgecolor='black')\n",
    "\n",
    "# Labeling the axes and adding a title\n",
    "plt.xlabel('Pixel Value')\n",
    "plt.ylabel('Frequency')\n",
    "plt.title('Pixel Value Frequency Distribution')\n",
    "\n",
    "# Display the plot\n",
    "plt.show()"
   ]
  },
  {
   "cell_type": "code",
   "execution_count": null,
   "metadata": {},
   "outputs": [],
   "source": [
    "print(plt.colormaps())"
   ]
  },
  {
   "cell_type": "code",
   "execution_count": null,
   "metadata": {},
   "outputs": [],
   "source": [
    "cmap_name = 'Paired'\n",
    "# Reshape to a 2D array (gradient image) with shape (1, 256)\n",
    "gradient = np.arange(256)[np.newaxis, :]\n",
    "\n",
    "# Display the gradient image using the specified colormap\n",
    "plt.figure(figsize=(8, 2))\n",
    "plt.imshow(gradient, aspect='auto', cmap=cmap_name)\n",
    "plt.colorbar(label='Pixel Value')\n",
    "plt.title(f'Colormap: {cmap_name}')\n",
    "plt.xlabel('Value')\n",
    "plt.ylabel('Intensity')\n",
    "plt.yticks([])\n",
    "plt.show()"
   ]
  },
  {
   "cell_type": "code",
   "execution_count": null,
   "metadata": {},
   "outputs": [],
   "source": [
    "ets = lambda v: int(v/65535*255)\n",
    "ste = lambda v: int(v/255*65535)"
   ]
  },
  {
   "cell_type": "code",
   "execution_count": null,
   "metadata": {},
   "outputs": [],
   "source": [
    "markers = np.zeros_like(im, dtype=np.uint8)\n",
    "IDK = 0\n",
    "BG = 1\n",
    "FG = 2\n",
    "# markers[im < ste(30)] = BG # blue\n",
    "# markers[im > ste(50)] = FG # brown\n",
    "markers[im < 30] = BG # blue\n",
    "markers[im > 50] = FG # brown\n",
    "# IDK = RED\n",
    "\n",
    "# plt.imshow(np.array(markers / markers.max() * (2**8-1), dtype=np.uint8), cmap='gray')\n",
    "plt.imshow(np.array(markers / markers.max() * (2**8-1), dtype=np.uint8), cmap=cmap_name)"
   ]
  },
  {
   "cell_type": "code",
   "execution_count": null,
   "metadata": {},
   "outputs": [],
   "source": [
    "elevation_map = ski.filters.sobel(im)\n",
    "\n",
    "plt.imshow(elevation_map)"
   ]
  },
  {
   "cell_type": "code",
   "execution_count": null,
   "metadata": {},
   "outputs": [],
   "source": [
    "segmentation = ski.segmentation.watershed(elevation_map, markers)\n",
    "segmentation = sp.ndimage.binary_fill_holes(segmentation - 1)\n",
    "\n",
    "plt.imshow(segmentation)"
   ]
  },
  {
   "cell_type": "code",
   "execution_count": null,
   "metadata": {},
   "outputs": [],
   "source": [
    "# Create a figure with two subplots side by side\n",
    "fig, axes = plt.subplots(1, 2, figsize=(10, 5))\n",
    "\n",
    "# Display the first image in the first subplot\n",
    "axes[0].imshow(im, cmap='gray', vmin=0, vmax=255)\n",
    "axes[0].set_title('Orig')\n",
    "axes[0].axis('off')  # Hide the axes\n",
    "\n",
    "# Display the second image in the second subplot\n",
    "axes[1].imshow(segmentation, cmap=cmap_name, vmin=0, vmax=segmentation.max())\n",
    "axes[1].set_title('Seg')\n",
    "axes[1].axis('off')  # Hide the axes\n",
    "\n",
    "# Adjust layout to prevent overlap\n",
    "plt.tight_layout()\n",
    "plt.show()"
   ]
  },
  {
   "cell_type": "code",
   "execution_count": null,
   "metadata": {},
   "outputs": [],
   "source": [
    "labels, _ = sp.ndimage.label(segmentation)\n",
    "\n",
    "# remove small objects\n",
    "sizes = np.bincount(labels.ravel())\n",
    "mask_sizes = sizes > 20\n",
    "mask_sizes[0] = 0\n",
    "segmentation = mask_sizes[labels]\n",
    "\n",
    "labels, _ = sp.ndimage.label(segmentation)"
   ]
  },
  {
   "cell_type": "code",
   "execution_count": null,
   "metadata": {},
   "outputs": [],
   "source": [
    "plt.imshow(labels)"
   ]
  },
  {
   "cell_type": "code",
   "execution_count": null,
   "metadata": {},
   "outputs": [],
   "source": [
    "return_header = np.lib.format.header_data_from_array_1_0(labels)\n",
    "return_header"
   ]
  },
  {
   "cell_type": "code",
   "execution_count": null,
   "metadata": {},
   "outputs": [],
   "source": [
    "socket.send_json(return_header)"
   ]
  },
  {
   "cell_type": "code",
   "execution_count": null,
   "metadata": {},
   "outputs": [],
   "source": [
    "ack = socket.recv_string()\n",
    "if ack == ACK:\n",
    "    print('Received return header ack:', ack)\n",
    "else:\n",
    "    print(\"Received unkown message\", ack)"
   ]
  },
  {
   "cell_type": "code",
   "execution_count": null,
   "metadata": {},
   "outputs": [],
   "source": [
    "socket.send(labels, copy=False)"
   ]
  },
  {
   "cell_type": "code",
   "execution_count": null,
   "metadata": {},
   "outputs": [],
   "source": [
    "# socket.send_string(\"Cancel\")"
   ]
  }
 ],
 "metadata": {
  "kernelspec": {
   "display_name": "cp_lis",
   "language": "python",
   "name": "python3"
  },
  "language_info": {
   "codemirror_mode": {
    "name": "ipython",
    "version": 3
   },
   "file_extension": ".py",
   "mimetype": "text/x-python",
   "name": "python",
   "nbconvert_exporter": "python",
   "pygments_lexer": "ipython3",
   "version": "3.10.14"
  }
 },
 "nbformat": 4,
 "nbformat_minor": 2
}
